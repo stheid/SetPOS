{
 "cells": [
  {
   "cell_type": "code",
   "execution_count": 2,
   "metadata": {},
   "outputs": [],
   "source": [
    "import seaborn as sns\n",
    "import pandas as pd\n",
    "import re\n",
    "from functools import reduce,partial\n",
    "import operator\n",
    "from operator import itemgetter\n",
    "from itertools import accumulate\n",
    "%matplotlib inline"
   ]
  },
  {
   "cell_type": "code",
   "execution_count": 8,
   "metadata": {
    "scrolled": true
   },
   "outputs": [
    {
     "data": {
      "text/html": [
       "<div>\n",
       "<style scoped>\n",
       "    .dataframe tbody tr th:only-of-type {\n",
       "        vertical-align: middle;\n",
       "    }\n",
       "\n",
       "    .dataframe tbody tr th {\n",
       "        vertical-align: top;\n",
       "    }\n",
       "\n",
       "    .dataframe thead tr th {\n",
       "        text-align: left;\n",
       "    }\n",
       "</style>\n",
       "<table border=\"1\" class=\"dataframe\">\n",
       "  <thead>\n",
       "    <tr>\n",
       "      <th></th>\n",
       "      <th colspan=\"2\" halign=\"left\">\\textsc{d}\\textsc{s}\\textsc{r}</th>\n",
       "      <th colspan=\"2\" halign=\"left\">\\textsc{k}o</th>\n",
       "      <th colspan=\"2\" halign=\"left\">\\textsc{r}\\textsc{e}\\textsc{n}1</th>\n",
       "      <th colspan=\"2\" halign=\"left\">\\textsc{r}\\textsc{e}\\textsc{n}14</th>\n",
       "      <th colspan=\"2\" halign=\"left\">\\textsc{r}\\textsc{e}\\textsc{n}19</th>\n",
       "      <th colspan=\"2\" halign=\"left\">\\textsc{r}\\textsc{e}\\textsc{n}2</th>\n",
       "      <th colspan=\"2\" halign=\"left\">\\textsc{r}\\textsc{e}\\textsc{n}4</th>\n",
       "      <th colspan=\"2\" halign=\"left\">\\textsc{s}\\textsc{o}\\textsc{s}1</th>\n",
       "      <th colspan=\"2\" halign=\"left\">\\textsc{s}t2</th>\n",
       "    </tr>\n",
       "    <tr>\n",
       "      <th></th>\n",
       "      <th>\\textsc{c}ore\\textsc{nlp}</th>\n",
       "      <th>baseline</th>\n",
       "      <th>\\textsc{c}ore\\textsc{nlp}</th>\n",
       "      <th>baseline</th>\n",
       "      <th>\\textsc{c}ore\\textsc{nlp}</th>\n",
       "      <th>baseline</th>\n",
       "      <th>\\textsc{c}ore\\textsc{nlp}</th>\n",
       "      <th>baseline</th>\n",
       "      <th>\\textsc{c}ore\\textsc{nlp}</th>\n",
       "      <th>baseline</th>\n",
       "      <th>\\textsc{c}ore\\textsc{nlp}</th>\n",
       "      <th>baseline</th>\n",
       "      <th>\\textsc{c}ore\\textsc{nlp}</th>\n",
       "      <th>baseline</th>\n",
       "      <th>\\textsc{c}ore\\textsc{nlp}</th>\n",
       "      <th>baseline</th>\n",
       "      <th>\\textsc{c}ore\\textsc{nlp}</th>\n",
       "      <th>baseline</th>\n",
       "    </tr>\n",
       "  </thead>\n",
       "  <tbody>\n",
       "    <tr>\n",
       "      <th>\\mlacc</th>\n",
       "      <td>-0.005911</td>\n",
       "      <td>-0.015976</td>\n",
       "      <td>-0.007931</td>\n",
       "      <td>-0.051448</td>\n",
       "      <td>0.005584</td>\n",
       "      <td>-0.001560</td>\n",
       "      <td>-0.011621</td>\n",
       "      <td>-0.000251</td>\n",
       "      <td>0.011029</td>\n",
       "      <td>0.028200</td>\n",
       "      <td>0.032051</td>\n",
       "      <td>0.040551</td>\n",
       "      <td>0.095578</td>\n",
       "      <td>0.059058</td>\n",
       "      <td>0.050277</td>\n",
       "      <td>0.014160</td>\n",
       "      <td>-0.005098</td>\n",
       "      <td>-0.053360</td>\n",
       "    </tr>\n",
       "    <tr>\n",
       "      <th>\\mlutil</th>\n",
       "      <td>0.001781</td>\n",
       "      <td>-0.000183</td>\n",
       "      <td>0.001908</td>\n",
       "      <td>0.006585</td>\n",
       "      <td>0.015272</td>\n",
       "      <td>0.017106</td>\n",
       "      <td>0.002112</td>\n",
       "      <td>0.006263</td>\n",
       "      <td>0.013409</td>\n",
       "      <td>0.006557</td>\n",
       "      <td>0.018032</td>\n",
       "      <td>0.045740</td>\n",
       "      <td>0.060134</td>\n",
       "      <td>0.065314</td>\n",
       "      <td>0.026599</td>\n",
       "      <td>0.025713</td>\n",
       "      <td>0.004701</td>\n",
       "      <td>-0.001741</td>\n",
       "    </tr>\n",
       "    <tr>\n",
       "      <th>$|\\hat{Y}|$</th>\n",
       "      <td>0.034048</td>\n",
       "      <td>0.237577</td>\n",
       "      <td>-0.037375</td>\n",
       "      <td>-0.212190</td>\n",
       "      <td>-0.164265</td>\n",
       "      <td>-0.407673</td>\n",
       "      <td>0.053571</td>\n",
       "      <td>0.461635</td>\n",
       "      <td>-0.093838</td>\n",
       "      <td>0.173583</td>\n",
       "      <td>-0.472498</td>\n",
       "      <td>-0.685280</td>\n",
       "      <td>-1.122682</td>\n",
       "      <td>-1.364964</td>\n",
       "      <td>-0.437846</td>\n",
       "      <td>-0.452461</td>\n",
       "      <td>0.034907</td>\n",
       "      <td>-0.097691</td>\n",
       "    </tr>\n",
       "  </tbody>\n",
       "</table>\n",
       "</div>"
      ],
      "text/plain": [
       "            \\textsc{d}\\textsc{s}\\textsc{r}            \\\n",
       "                 \\textsc{c}ore\\textsc{nlp}  baseline   \n",
       "\\mlacc                           -0.005911 -0.015976   \n",
       "\\mlutil                           0.001781 -0.000183   \n",
       "$|\\hat{Y}|$                       0.034048  0.237577   \n",
       "\n",
       "                          \\textsc{k}o            \\\n",
       "            \\textsc{c}ore\\textsc{nlp}  baseline   \n",
       "\\mlacc                      -0.007931 -0.051448   \n",
       "\\mlutil                      0.001908  0.006585   \n",
       "$|\\hat{Y}|$                 -0.037375 -0.212190   \n",
       "\n",
       "            \\textsc{r}\\textsc{e}\\textsc{n}1            \\\n",
       "                  \\textsc{c}ore\\textsc{nlp}  baseline   \n",
       "\\mlacc                             0.005584 -0.001560   \n",
       "\\mlutil                            0.015272  0.017106   \n",
       "$|\\hat{Y}|$                       -0.164265 -0.407673   \n",
       "\n",
       "            \\textsc{r}\\textsc{e}\\textsc{n}14            \\\n",
       "                   \\textsc{c}ore\\textsc{nlp}  baseline   \n",
       "\\mlacc                             -0.011621 -0.000251   \n",
       "\\mlutil                             0.002112  0.006263   \n",
       "$|\\hat{Y}|$                         0.053571  0.461635   \n",
       "\n",
       "            \\textsc{r}\\textsc{e}\\textsc{n}19            \\\n",
       "                   \\textsc{c}ore\\textsc{nlp}  baseline   \n",
       "\\mlacc                              0.011029  0.028200   \n",
       "\\mlutil                             0.013409  0.006557   \n",
       "$|\\hat{Y}|$                        -0.093838  0.173583   \n",
       "\n",
       "            \\textsc{r}\\textsc{e}\\textsc{n}2            \\\n",
       "                  \\textsc{c}ore\\textsc{nlp}  baseline   \n",
       "\\mlacc                             0.032051  0.040551   \n",
       "\\mlutil                            0.018032  0.045740   \n",
       "$|\\hat{Y}|$                       -0.472498 -0.685280   \n",
       "\n",
       "            \\textsc{r}\\textsc{e}\\textsc{n}4            \\\n",
       "                  \\textsc{c}ore\\textsc{nlp}  baseline   \n",
       "\\mlacc                             0.095578  0.059058   \n",
       "\\mlutil                            0.060134  0.065314   \n",
       "$|\\hat{Y}|$                       -1.122682 -1.364964   \n",
       "\n",
       "            \\textsc{s}\\textsc{o}\\textsc{s}1            \\\n",
       "                  \\textsc{c}ore\\textsc{nlp}  baseline   \n",
       "\\mlacc                             0.050277  0.014160   \n",
       "\\mlutil                            0.026599  0.025713   \n",
       "$|\\hat{Y}|$                       -0.437846 -0.452461   \n",
       "\n",
       "                         \\textsc{s}t2            \n",
       "            \\textsc{c}ore\\textsc{nlp}  baseline  \n",
       "\\mlacc                      -0.005098 -0.053360  \n",
       "\\mlutil                      0.004701 -0.001741  \n",
       "$|\\hat{Y}|$                  0.034907 -0.097691  "
      ]
     },
     "execution_count": 8,
     "metadata": {},
     "output_type": "execute_result"
    }
   ],
   "source": [
    "df = pd.read_pickle('in-doc-single.pkl')-pd.read_pickle('in-domain.pkl')\n",
    "df"
   ]
  },
  {
   "cell_type": "code",
   "execution_count": null,
   "metadata": {},
   "outputs": [],
   "source": [
    "df ="
   ]
  },
  {
   "cell_type": "code",
   "execution_count": 91,
   "metadata": {},
   "outputs": [
    {
     "name": "stdout",
     "output_type": "stream",
     "text": [
      "\\textsc{vvfin}.*&\\textsc{vvinf}\\,(116), \\textsc{vvfin}.ind\\,(105), \\textsc{na}\\,(73)&371&\\llap{51}.\\rlap{68\\%}\\\\\n",
      "\\textsc{na}&\\textsc{vvinf}\\,(85), \\textsc{adja}\\,(42), \\textsc{vvfin}.*\\,(35), \\textsc{ne}\\,(29)&226&\\llap{95}.\\rlap{45\\%}\\\\\n",
      "\\textsc{vvfin}.ind&\\textsc{vvfin}.*\\,(97), \\textsc{na}\\,(26), \\textsc{vvinf}\\,(17), \\textsc{vafin}.ind\\,(13)&204&\\llap{56}.\\rlap{01\\%}\\\\\n",
      "\\textsc{avd}&\\textsc{na}\\,(29), \\textsc{kon}\\,(27), \\textsc{pavd}\\,(22), \\textsc{appr}\\,(19), \\textsc{adjv}\\,(13)&193&\\llap{81}.\\rlap{42\\%}\\\\\n",
      "\\textsc{vmfin}.*&\\textsc{vmfin}.ind\\,(140)&152&\\llap{73}.\\rlap{96\\%}\\\\\n",
      "\\textsc{dds}&\\textsc{ddart}\\,(64), \\textsc{drels}\\,(35), \\textsc{kous}\\,(16)&135&\\llap{73}.\\rlap{34\\%}\\\\\n",
      "\\textsc{oa}&\\textsc{na}\\,(35), \\textsc{appr}\\,(15), \\textsc{ne}\\,(8), \\textsc{xy}\\,(8), \\textsc{adja}\\,(7)&120&\\llap{28}.\\rlap{57\\%}\\\\\n",
      "\\textsc{vvinf}&\\textsc{na}\\,(76), \\textsc{vvfin}.*\\,(30)&119&\\llap{85}.\\rlap{90\\%}\\\\\n",
      "\\textsc{vafin}.*&\\textsc{vafin}.ind\\,(49), \\textsc{vvfin}.*\\,(21), \\textsc{vvfin}.ind\\,(10), \\textsc{vafin}.konj\\,(10)&116&\\llap{50}.\\rlap{84\\%}\\\\\n",
      "\\textsc{adja}&\\textsc{na}\\,(56), \\textsc{adjs}\\,(14), \\textsc{vvpp}\\,(7), \\textsc{ne}\\,(6)&109&\\llap{88}.\\rlap{51\\%}\\\\\n",
      "percent of errors explained: 34.73%\n"
     ]
    }
   ],
   "source": [
    "# 10 tags with most absolute errors\n",
    "# 5 most common mistakes (or 80% of the errors)\n",
    "accs = {tag: df.iscorrect[df.target.apply(lambda x: tag in x)].mean() for tag, count in tags.items()}\n",
    "errors = {tag:df.iscorrect[df.target.apply(lambda x: tag in x)].apply(lambda x: not bool(x)).sum() for tag,count in tags.items()}\n",
    "errors = sorted(errors.items(),key=itemgetter(1),reverse=True)\n",
    "\n",
    "\n",
    "percent_to_str = lambda x: re.sub(r'(\\d+)\\.(.*)', r'\\\\llap{\\1}.\\\\rlap{\\2}', f'{x:.2%}'.replace('%', '\\%'))\n",
    "convert_sc = lambda x: re.sub(r'([A-Z]+)', lambda x:f'\\\\textsc{{{x.group().lower()}}}',x)\n",
    "\n",
    "total_errs = sum(x[1] for x in errors)\n",
    "explained_errs = 0\n",
    "for x in errors[:10]:\n",
    "    acc = {tag:df.pred[df.target.apply(lambda x_: x[0] in x_)].apply(lambda x_: x_==tag).sum()for tag in tags}\n",
    "    del acc[x[0]] \n",
    "    err = sorted(acc.items(),key=itemgetter(1),reverse=True)\n",
    "    i = 0\n",
    "    while sum(map(itemgetter(1),err[:i])) < x[1]*.75:\n",
    "        i +=1\n",
    "    i = min(5,i)\n",
    "    err_s = ', '.join([convert_sc(e[0])+'\\,('+str(e[1])+')' for e in err[:i]])\n",
    "    total_part = sum(map(itemgetter(1),err[:i]))/total_errs\n",
    "    \n",
    "    print(convert_sc(x[0]),#percent_to_str(total_part),\n",
    "          err_s,\n",
    "          f'{x[1]:,}',\n",
    "          percent_to_str(accs[x[0]]),\n",
    "          sep='&',end='\\\\\\\\\\n')\n",
    "    explained_errs += sum(map(itemgetter(1),err[:i]))\n",
    "    \n",
    "print(f'percent of errors explained: {explained_errs/ total_errs:.2%}')"
   ]
  },
  {
   "cell_type": "code",
   "execution_count": 103,
   "metadata": {},
   "outputs": [
    {
     "data": {
      "text/html": [
       "<div>\n",
       "<style scoped>\n",
       "    .dataframe tbody tr th:only-of-type {\n",
       "        vertical-align: middle;\n",
       "    }\n",
       "\n",
       "    .dataframe tbody tr th {\n",
       "        vertical-align: top;\n",
       "    }\n",
       "\n",
       "    .dataframe thead th {\n",
       "        text-align: right;\n",
       "    }\n",
       "</style>\n",
       "<table border=\"1\" class=\"dataframe\">\n",
       "  <thead>\n",
       "    <tr style=\"text-align: right;\">\n",
       "      <th></th>\n",
       "      <th>Tag</th>\n",
       "      <th>Type</th>\n",
       "      <th>Value</th>\n",
       "    </tr>\n",
       "  </thead>\n",
       "  <tbody>\n",
       "    <tr>\n",
       "      <th>0</th>\n",
       "      <td>ADJA</td>\n",
       "      <td>ml-acc</td>\n",
       "      <td>0.885107</td>\n",
       "    </tr>\n",
       "    <tr>\n",
       "      <th>1</th>\n",
       "      <td>ADJA</td>\n",
       "      <td>frequency</td>\n",
       "      <td>0.158475</td>\n",
       "    </tr>\n",
       "    <tr>\n",
       "      <th>2</th>\n",
       "      <td>ADJA&lt;VVPP</td>\n",
       "      <td>ml-acc</td>\n",
       "      <td>0.722222</td>\n",
       "    </tr>\n",
       "    <tr>\n",
       "      <th>3</th>\n",
       "      <td>ADJA&lt;VVPP</td>\n",
       "      <td>frequency</td>\n",
       "      <td>0.008759</td>\n",
       "    </tr>\n",
       "    <tr>\n",
       "      <th>4</th>\n",
       "      <td>ADJD</td>\n",
       "      <td>ml-acc</td>\n",
       "      <td>0.643362</td>\n",
       "    </tr>\n",
       "    <tr>\n",
       "      <th>...</th>\n",
       "      <td>...</td>\n",
       "      <td>...</td>\n",
       "      <td>...</td>\n",
       "    </tr>\n",
       "    <tr>\n",
       "      <th>125</th>\n",
       "      <td>VVPP</td>\n",
       "      <td>frequency</td>\n",
       "      <td>0.106894</td>\n",
       "    </tr>\n",
       "    <tr>\n",
       "      <th>126</th>\n",
       "      <td>VVPS</td>\n",
       "      <td>ml-acc</td>\n",
       "      <td>0.629630</td>\n",
       "    </tr>\n",
       "    <tr>\n",
       "      <th>127</th>\n",
       "      <td>VVPS</td>\n",
       "      <td>frequency</td>\n",
       "      <td>0.013139</td>\n",
       "    </tr>\n",
       "    <tr>\n",
       "      <th>128</th>\n",
       "      <td>XY</td>\n",
       "      <td>ml-acc</td>\n",
       "      <td>0.973535</td>\n",
       "    </tr>\n",
       "    <tr>\n",
       "      <th>129</th>\n",
       "      <td>XY</td>\n",
       "      <td>frequency</td>\n",
       "      <td>0.085807</td>\n",
       "    </tr>\n",
       "  </tbody>\n",
       "</table>\n",
       "<p>130 rows × 3 columns</p>\n",
       "</div>"
      ],
      "text/plain": [
       "           Tag       Type     Value\n",
       "0         ADJA     ml-acc  0.885107\n",
       "1         ADJA  frequency  0.158475\n",
       "2    ADJA<VVPP     ml-acc  0.722222\n",
       "3    ADJA<VVPP  frequency  0.008759\n",
       "4         ADJD     ml-acc  0.643362\n",
       "..         ...        ...       ...\n",
       "125       VVPP  frequency  0.106894\n",
       "126       VVPS     ml-acc  0.629630\n",
       "127       VVPS  frequency  0.013139\n",
       "128         XY     ml-acc  0.973535\n",
       "129         XY  frequency  0.085807\n",
       "\n",
       "[130 rows x 3 columns]"
      ]
     },
     "execution_count": 103,
     "metadata": {},
     "output_type": "execute_result"
    }
   ],
   "source": [
    "min_count = 10\n",
    "accs = {tag: df.iscorrect[df.target.apply(lambda x: tag in x)].mean() for tag, count in tags.items() if\n",
    "        count >= min_count}\n",
    "util = {tag: df.const_util[df.target.apply(lambda x: tag in x)].mean() for tag, count in tags.items() if\n",
    "        count >= min_count}\n",
    "count = {tag: df.const_util[df.target.apply(lambda x: tag in x)].count() for tag, count in tags.items() if\n",
    "         count >= min_count}\n",
    "count = pd.Series(count)/pd.Series(count).sum()\n",
    "count =count/pd.Series(count).max()\n",
    "\n",
    "df2 = pd.DataFrame([pd.Series(accs), count], index=['ml-acc', 'frequency']).T.sort_index().stack().unstack(0).unstack(0)\n",
    "df2 = df2.reset_index()\n",
    "df2.columns = ['Tag', 'Type', 'Value']\n",
    "df2"
   ]
  },
  {
   "cell_type": "code",
   "execution_count": 112,
   "metadata": {},
   "outputs": [
    {
     "data": {
      "text/plain": [
       "<matplotlib.legend.Legend at 0x7fa14963a8d0>"
      ]
     },
     "execution_count": 112,
     "metadata": {},
     "output_type": "execute_result"
    },
    {
     "data": {
      "image/png": "[encoded data removed]",
      "text/plain": [
       "<Figure size 432x288 with 1 Axes>"
      ]
     },
     "metadata": {
      "needs_background": "light"
     },
     "output_type": "display_data"
    }
   ],
   "source": [
    "ax = sns.barplot(x='Tag', y='Value',hue= 'Type',data=df2)\n",
    "ax.tick_params(axis='x', rotation=90)\n",
    "ax.set_axisbelow(True)\n",
    "ax.grid(which='both', axis='y')\n",
    "ax.legend(loc=(.7,.82))"
   ]
  },
  {
   "cell_type": "code",
   "execution_count": 179,
   "metadata": {},
   "outputs": [],
   "source": [
    "#df2 = pd.DataFrame([pd.Series(accs) ,pd.Series(util) ],index=['acc','util']).T.stack().reset_index()\n",
    "#df2.columns = ['Tag','Measure', 'Score']\n",
    "df2 = pd.DataFrame([pd.Series(accs),pd.Series(count)  ],index=['acc','count']).T.sort_index().reset_index()\n",
    "df2.columns = ['Tag','acc', 'count']"
   ]
  },
  {
   "cell_type": "code",
   "execution_count": 184,
   "metadata": {},
   "outputs": [
    {
     "data": {
      "image/png": "[encoded data removed]",
      "text/plain": [
       "<Figure size 1152x576 with 1 Axes>"
      ]
     },
     "metadata": {
      "needs_background": "light"
     },
     "output_type": "display_data"
    }
   ],
   "source": [
    "#ax = sns.barplot(x='Tag', y='Score',hue='Measure',data=df2)\n",
    "ax = sns.barplot(x='Tag', y='acc',data=df2)\n",
    "ax.tick_params(axis='x',rotation=90)\n",
    "ax.set_axisbelow(True)\n",
    "ax.grid(which='both', axis='y')\n",
    "fig = ax.get_figure()\n",
    "fig.set_size_inches((16,8))"
   ]
  },
  {
   "cell_type": "code",
   "execution_count": 89,
   "metadata": {},
   "outputs": [
    {
     "data": {
      "text/plain": [
       "'\\\\begin{tabular}{l@{ }l@{\\\\enspace}c@{\\\\enspace}c@{\\\\enspace}c@{\\\\enspace}c@{\\\\enspace}c@{\\\\enspace}c@{\\\\enspace}c@{\\\\enspace}c@{\\\\enspace}c}\\n\\\\toprule\\n     &          &                135   &                270   &                540   &                810   &                1621  &                2971  &                5403  &                9456  &                13509 \\\\\\\\\\n\\\\midrule\\n\\\\multirow{2}{*}{acc} & \\\\textsc{c}ore\\\\textsc{nlp} &  \\\\llap{46}.\\\\rlap{94} &  \\\\llap{55}.\\\\rlap{22} &  \\\\llap{62}.\\\\rlap{44} &  \\\\llap{66}.\\\\rlap{46} &  \\\\llap{70}.\\\\rlap{14} &  \\\\llap{79}.\\\\rlap{49} &  \\\\llap{83}.\\\\rlap{97} &  \\\\llap{87}.\\\\rlap{02} &  \\\\llap{88}.\\\\rlap{82} \\\\\\\\\\n     & baseline &  \\\\llap{50}.\\\\rlap{40} &  \\\\llap{55}.\\\\rlap{04} &  \\\\llap{62}.\\\\rlap{33} &  \\\\llap{64}.\\\\rlap{89} &  \\\\llap{67}.\\\\rlap{79} &  \\\\llap{72}.\\\\rlap{86} &  \\\\llap{77}.\\\\rlap{80} &  \\\\llap{80}.\\\\rlap{17} &  \\\\llap{80}.\\\\rlap{27} \\\\\\\\\\n\\\\cline{1-11}\\n\\\\multirow{2}{*}{util} & \\\\textsc{c}ore\\\\textsc{nlp} &             0.703201 &             0.758265 &             0.817096 &             0.848254 &              0.85462 &              0.90429 &             0.934514 &             0.951958 &             0.959229 \\\\\\\\\\n     & baseline &             0.733109 &             0.750647 &             0.790981 &             0.829712 &             0.840184 &             0.895811 &             0.922584 &             0.936684 &             0.948994 \\\\\\\\\\n\\\\cline{1-11}\\n\\\\multirow{2}{*}{size} & \\\\textsc{c}ore\\\\textsc{nlp} &              11.4312 &              8.20312 &              5.92819 &              4.80552 &               3.5984 &              2.75798 &              2.31416 &              2.13564 &              2.02626 \\\\\\\\\\n     & baseline &              10.3464 &              8.22232 &              6.89136 &               6.3878 &              5.04855 &              4.45411 &              3.68058 &              3.57845 &              3.44287 \\\\\\\\\\n\\\\bottomrule\\n\\\\end{tabular}\\n'"
      ]
     },
     "execution_count": 89,
     "metadata": {},
     "output_type": "execute_result"
    }
   ],
   "source": [
    "df['acc'] = df['acc'].apply(\n",
    "    lambda x: re.sub(r'(\\d+)\\.(\\d+)', r'\\\\llap{\\1}.\\\\rlap{\\2}', '{:0.2%}'.format(x).replace('%', '')))\n",
    "df['\\mlutil'] = df['\\mlutil'].apply(\n",
    "    lambda x: re.sub(r'(\\d+)\\.(\\d+)', r'\\\\llap{\\1}.\\\\rlap{\\2}', '{:0.2%}'.format(x).replace('%', '')))\n",
    "df['$|\\hat{Y}|$'] = df['$|\\hat{Y}|$'].apply(\n",
    "    lambda x: re.sub(r'(\\d+)\\.(\\d+)', r'\\\\llap{\\1}.\\\\rlap{\\2}', '{:0.2f}'.format(x)))\n",
    "df.columns = '\\ml-acc,\\ml-util,$|\\hat{Y}|$'.split(',')\n",
    "\n",
    "#with open(outdir + savefile[:-3]+'tex', 'w') as f:\n",
    "#    df.T.stack(0).to_latex(buf=f, escape=False, multicolumn_format='c', multirow=True,\n",
    "#                  column_format='l@{ }l' + '@{\\enspace}c' * 9,\n",
    "#                  )"
   ]
  }
 ],
 "metadata": {
  "kernelspec": {
   "display_name": "Python 3",
   "language": "python",
   "name": "python3"
  },
  "language_info": {
   "codemirror_mode": {
    "name": "ipython",
    "version": 3
   },
   "file_extension": ".py",
   "mimetype": "text/x-python",
   "name": "python",
   "nbconvert_exporter": "python",
   "pygments_lexer": "ipython3",
   "version": "3.7.4"
  }
 },
 "nbformat": 4,
 "nbformat_minor": 2
}
